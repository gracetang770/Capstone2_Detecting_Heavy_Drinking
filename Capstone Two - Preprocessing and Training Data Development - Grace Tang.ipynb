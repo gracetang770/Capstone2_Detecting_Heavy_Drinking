{
 "cells": [
  {
   "cell_type": "markdown",
   "metadata": {},
   "source": [
    "# 4 Preprocessing and Training Data Development "
   ]
  },
  {
   "cell_type": "markdown",
   "metadata": {},
   "source": [
    "## Table of Contents:\n",
    "\n",
    "* [4.1 Introduction](#4.1_Introduction)\n",
    "* [4.2 Import Packages](#4.2_Import_Packages)\n",
    "* [4.3 Load the Data](#4.3_Load_the_Data)\n",
    "* [4.4 Featurizing (one last time)](#4.4_Featurizing)\n",
    "* [4.5 Train/Test Split](#4.5_Train_Test_Split)\n",
    "* [4.6 Scaling the Data](#4.6_Scaling_the_Data)\n",
    "* [4.7 Exporting the Data](#4.7_Exporting_the_Data)\n",
    "* [4.8 Summary and Next Steps](#4.8_Summary_and_Next_Steps)"
   ]
  },
  {
   "cell_type": "markdown",
   "metadata": {},
   "source": [
    "## 4.1 Introduction<a id='4.1_Introduction'></a>"
   ]
  },
  {
   "cell_type": "markdown",
   "metadata": {},
   "source": [
    "In our Exploratory Data Analysis notebook, we imputed our missing Transdermal Alcohol Content (TAC) data with two different methods, resulting in two datasets of 13 dataframes each:\n",
    "1. In the first method, we interpolated the raw data with a polynomial fitting on the 3rd, 5th, 7th, and 9th orders.\n",
    "2. In the second method, we smoothed the TAC data with a triangular moving average of window size 3 (1.5 hours, as each TAC datapoint is measured per 30 minutes), followed by interpolation with a 3rd order polynomial fitting. We also used a triangular moving average to make a smoothed set of the accelerometer data.\n",
    "\n",
    "After bifurcating our data (resulting in a total of 26 dataframes), we featurized the x, y, and z-axes of each df to get 156 additional features. All dataframes were exported as CSV files. \n",
    "\n",
    "We investigated relationships between features using PCA, correlation heatmaps, scatterplots, histograms, and boxplots. There does not appear to be a clear visual distinction between the characteristics of the participant whent they are legally drunk (TAC >= 0.08) versus when they are legally sober (TAC < 0.08). However, from a visual assessment of the boxplots, there appears to be less variation in the features for the participant when they are sober compared to when they are intoxicated. This investigation indicates we may want to generate a few more features (such as the standard deviation of our existing features).\n",
    "\n",
    "In this notebook, we will do the following:\n",
    "1. __Featurize:__ We will featurize our datasets one last time by calculating the standard deviation of each feature, doubling our features from 156 to 312. \n",
    "2. __Train/Test Split:__ For both our raw/interpolated data and our TMA-smoothed data, we will conduct a 70/30 train/test split. We should take note that there are many more instances of non-intoxicated samples than intoxicated samples. It may be beneficial to account for these differences by removing some non-intoxicated instances to achieve closer to a 50/50 split.\n",
    "3. __Scaling the Data:__ Since our features are all on different scales (different magnitudes), we will scale our training data. Then, using our scaler than was trained on the training data, we will apply that scaler to the test data (it is imperative that we do not fit our scaler to the test data, as the test data should not be looked at as much as possible in proper machine learning modeling)."
   ]
  },
  {
   "cell_type": "markdown",
   "metadata": {},
   "source": [
    "## 4.2 Import Packages<a id='4.2_Import_Packages'></a>"
   ]
  },
  {
   "cell_type": "code",
   "execution_count": 1,
   "metadata": {},
   "outputs": [],
   "source": [
    "import pandas as pd\n",
    "import numpy as np\n",
    "import os\n",
    "import matplotlib.pyplot as plt\n",
    "import seaborn as sns\n",
    "from sklearn.decomposition import PCA\n",
    "from sklearn.preprocessing import scale, StandardScaler, MinMaxScaler\n",
    "from sklearn.model_selection import train_test_split, cross_validate, GridSearchCV, learning_curve\n",
    "import timeit\n",
    "import time\n",
    "import random\n",
    "\n",
    "import multiprocessing as mp\n",
    "from multiprocessing import Process, Queue, Lock, Pool\n",
    "from multiprocessing.pool import ThreadPool\n",
    "import defs # defs.py, has our featurizing fxns that we'll call during multiprocessing "
   ]
  },
  {
   "cell_type": "markdown",
   "metadata": {},
   "source": [
    "## 4.3 Load the Data<a id='4.3_Load_the_Data'></a>"
   ]
  },
  {
   "cell_type": "code",
   "execution_count": 2,
   "metadata": {},
   "outputs": [
    {
     "data": {
      "text/plain": [
       "'D:\\\\Documents\\\\Springboard\\\\Capstone 2 - heavy drinking project\\\\data'"
      ]
     },
     "execution_count": 2,
     "metadata": {},
     "output_type": "execute_result"
    }
   ],
   "source": [
    "# change directories to where the processed data is located.\n",
    "\n",
    "path = 'D:\\Documents\\Springboard\\Capstone 2 - heavy drinking project\\data'\n",
    "os.chdir(path)\n",
    "os.getcwd()"
   ]
  },
  {
   "cell_type": "code",
   "execution_count": 3,
   "metadata": {},
   "outputs": [],
   "source": [
    "#The raw data is 25.7 GB and the tma data is 27.3 GB. \n",
    "# Raw/interpolated data: #This section should not be uncommented unless your system has > 50 GB RAM\n",
    "\n",
    "# pid1_featurized = pd.read_csv('pid1_featurized.csv')\n",
    "# pid2_featurized = pd.read_csv('pid2_featurized.csv')\n",
    "# pid3_featurized = pd.read_csv('pid3_featurized.csv')\n",
    "# pid4_featurized = pd.read_csv('pid4_featurized.csv')\n",
    "# pid5_featurized = pd.read_csv('pid5_featurized.csv')\n",
    "# pid6_featurized = pd.read_csv('pid6_featurized.csv')\n",
    "# pid7_featurized = pd.read_csv('pid7_featurized.csv')\n",
    "# pid8_featurized = pd.read_csv('pid8_featurized.csv')\n",
    "# pid9_featurized = pd.read_csv('pid9_featurized.csv')\n",
    "# pid10_featurized = pd.read_csv('pid10_featurized.csv')\n",
    "# pid11_featurized = pd.read_csv('pid11_featurized.csv')\n",
    "# pid12_featurized = pd.read_csv('pid12_featurized.csv')\n",
    "# pid13_featurized = pd.read_csv('pid13_featurized.csv')\n"
   ]
  },
  {
   "cell_type": "code",
   "execution_count": 4,
   "metadata": {},
   "outputs": [],
   "source": [
    "# TMA-smoothed data: #This section should not be uncommented unless your system has > 50 GB RAM\n",
    "\n",
    "# pid1_tma_featurized = pd.read_csv('pid1_tma_featurized.csv')\n",
    "# pid2_tma_featurized = pd.read_csv('pid2_tma_featurized.csv')\n",
    "# pid3_tma_featurized = pd.read_csv('pid3_tma_featurized.csv')\n",
    "# pid4_tma_featurized = pd.read_csv('pid4_tma_featurized.csv')\n",
    "# pid5_tma_featurized = pd.read_csv('pid5_tma_featurized.csv')\n",
    "# pid6_tma_featurized = pd.read_csv('pid6_tma_featurized.csv')\n",
    "# pid7_tma_featurized = pd.read_csv('pid7_tma_featurized.csv')\n",
    "# pid8_tma_featurized = pd.read_csv('pid8_tma_featurized.csv')\n",
    "# pid9_tma_featurized = pd.read_csv('pid9_tma_featurized.csv')\n",
    "# pid10_tma_featurized = pd.read_csv('pid10_tma_featurized.csv')\n",
    "# pid11_tma_featurized = pd.read_csv('pid11_tma_featurized.csv')\n",
    "# pid12_tma_featurized = pd.read_csv('pid12_tma_featurized.csv')\n",
    "# pid13_tma_featurized = pd.read_csv('pid13_tma_featurized.csv')"
   ]
  },
  {
   "cell_type": "markdown",
   "metadata": {},
   "source": [
    "Here we run into a conundrum. My raw/interpolated dataset is 25.7 GB and my TMA-smoothed dataset is 27.3 GB, but my system only has 16 GB RAM. I am unable to fully load either set in its entirety at once. \n",
    "\n",
    "As an alternative approach, we can load each individual dataframe, run our featurization (i.e. calculating the standard deviation of each feature), and keep only a fraction of each df to use in our train/test split. A possible way to approach this is to select every 100th row, and drop the rest, since we do not need such granularity. This smaller df could then be written to a csv file, letting us work with much smaller data. The Multiprocessing python package would be useful in this step."
   ]
  },
  {
   "cell_type": "code",
   "execution_count": 5,
   "metadata": {},
   "outputs": [
    {
     "data": {
      "text/plain": [
       "26"
      ]
     },
     "execution_count": 5,
     "metadata": {},
     "output_type": "execute_result"
    }
   ],
   "source": [
    "#put everything in a list\n",
    "\n",
    "df_names_list = ['pid1_featurized.csv', 'pid2_featurized.csv', 'pid3_featurized.csv', 'pid4_featurized.csv', \\\n",
    "                'pid5_featurized.csv', 'pid6_featurized.csv', 'pid7_featurized.csv', 'pid8_featurized.csv', \\\n",
    "                'pid9_featurized.csv', 'pid10_featurized.csv', 'pid11_featurized.csv', 'pid12_featurized.csv', \\\n",
    "                'pid13_featurized.csv', 'pid1_tma_featurized.csv', 'pid2_tma_featurized.csv', 'pid3_tma_featurized.csv', \\\n",
    "                'pid4_tma_featurized.csv', 'pid5_tma_featurized.csv', 'pid6_tma_featurized.csv', 'pid7_tma_featurized.csv', \\\n",
    "                'pid8_tma_featurized.csv', 'pid9_tma_featurized.csv', 'pid10_tma_featurized.csv', \\\n",
    "                'pid11_tma_featurized.csv', 'pid12_tma_featurized.csv', 'pid13_tma_featurized.csv']\n",
    "\n",
    "len(df_names_list)"
   ]
  },
  {
   "cell_type": "markdown",
   "metadata": {},
   "source": [
    "## 4.4 Featurizing (one last time)<a id='4.4_Featurizing'></a>"
   ]
  },
  {
   "cell_type": "markdown",
   "metadata": {},
   "source": [
    "In our Exploratory Data Analysis notebook, we saw that there appears to be less variation in the features for the participant when they are sober compared to when they are intoxicated. This investigation indicates we may want to generate a few more features, such as the standard deviation of our existing features.\n",
    "\n",
    "We will featurize our datasets one last time by calculating the standard deviation of each feature, doubling our features from 156 to 306 (it results in 306 features instead of 312 due to duplicates such as [x,y,z]_[jerk,snap]_std. \n",
    "\n",
    "Fortunately, all of our data is quantitative and not categorical, so one-hot encoding is not needed."
   ]
  },
  {
   "cell_type": "code",
   "execution_count": 6,
   "metadata": {},
   "outputs": [],
   "source": [
    "def featurize_std_df(df_name):\n",
    "    \"\"\"Takes the name of a csv file, reads it into a pandas dataframe, and sets the \"time\" column as the index.\n",
    "    Calculates the standard deviation on all of the features in \"col_list\", over a 10-second rolling window.\"\"\"\n",
    "    \n",
    "    start = time.time()\n",
    "    \n",
    "    df = pd.read_csv(df_name)\n",
    "    df.time = pd.to_datetime(df.time)\n",
    "    df = df.set_index('time')\n",
    "    \n",
    "    #Note: x, y, z, and _jerk and _snap have been removed to not result in redundant _std features.\n",
    "    col_list = ['x_mean', \\\n",
    "                 'x_std', \\\n",
    "                 'x_var', \\\n",
    "                 'x_median', \\\n",
    "                 'x_max_raw', \\\n",
    "                 'x_min_raw', \\\n",
    "                 'x_max_abs', \\\n",
    "                 'x_min_abs', \\\n",
    "                 'x_skew', \\\n",
    "                 'x_kurtosis', \\\n",
    "                 'x_zcr', \\\n",
    "                 'x_gait_stretch', \\\n",
    "                 'x_steps', \\\n",
    "                 'x_step_time', \\\n",
    "                 'x_rms', \\\n",
    "                 'x_jerk_mean', \\\n",
    "                 'x_jerk_std', \\\n",
    "                 'x_jerk_var', \\\n",
    "                 'x_jerk_median', \\\n",
    "                 'x_jerk_max_raw', \\\n",
    "                 'x_jerk_min_raw', \\\n",
    "                 'x_jerk_max_abs', \\\n",
    "                 'x_jerk_min_abs', \\\n",
    "                 'x_jerk_skew', \\\n",
    "                 'x_jerk_kurtosis', \\\n",
    "                 'x_jerk_zcr', \\\n",
    "                 'x_jerk_gait_stretch', \\\n",
    "                 'x_jerk_steps', \\\n",
    "                 'x_jerk_step_time', \\\n",
    "                 'x_jerk_rms', \\\n",
    "                 'x_snap_mean', \\\n",
    "                 'x_snap_std', \\\n",
    "                 'x_snap_var', \\\n",
    "                 'x_snap_median', \\\n",
    "                 'x_snap_max_raw', \\\n",
    "                 'x_snap_min_raw', \\\n",
    "                 'x_snap_max_abs', \\\n",
    "                 'x_snap_min_abs', \\\n",
    "                 'x_snap_skew',\\\n",
    "                 'x_snap_kurtosis', \\\n",
    "                 'x_snap_zcr', \\\n",
    "                 'x_snap_gait_stretch', \\\n",
    "                 'x_snap_steps', \\\n",
    "                 'x_snap_step_time', \\\n",
    "                 'x_snap_rms', \\\n",
    "                 'y_mean', \\\n",
    "                 'y_std', \\\n",
    "                 'y_var', \\\n",
    "                 'y_median', \\\n",
    "                 'y_max_raw', \\\n",
    "                 'y_min_raw', \\\n",
    "                 'y_max_abs', \\\n",
    "                 'y_min_abs', \\\n",
    "                 'y_skew', \\\n",
    "                 'y_kurtosis', \\\n",
    "                 'y_zcr', \\\n",
    "                 'y_gait_stretch', \\\n",
    "                 'y_steps', \\\n",
    "                 'y_step_time', \\\n",
    "                 'y_rms', \\\n",
    "                 'y_jerk_mean', \\\n",
    "                 'y_jerk_std', \\\n",
    "                 'y_jerk_var', \\\n",
    "                 'y_jerk_median', \\\n",
    "                 'y_jerk_max_raw', \\\n",
    "                 'y_jerk_min_raw', \\\n",
    "                 'y_jerk_max_abs', \\\n",
    "                 'y_jerk_min_abs', \\\n",
    "                 'y_jerk_skew', \\\n",
    "                 'y_jerk_kurtosis', \\\n",
    "                 'y_jerk_zcr', \\\n",
    "                 'y_jerk_gait_stretch', \\\n",
    "                 'y_jerk_steps', \\\n",
    "                 'y_jerk_step_time', \\\n",
    "                 'y_jerk_rms', \\\n",
    "                 'y_snap_mean', \\\n",
    "                 'y_snap_std', \\\n",
    "                 'y_snap_var', \\\n",
    "                 'y_snap_median', \\\n",
    "                 'y_snap_max_raw', \\\n",
    "                 'y_snap_min_raw', \\\n",
    "                 'y_snap_max_abs', \\\n",
    "                 'y_snap_min_abs', \\\n",
    "                 'y_snap_skew', \\\n",
    "                 'y_snap_kurtosis', \\\n",
    "                 'y_snap_zcr', \\\n",
    "                 'y_snap_gait_stretch', \\\n",
    "                 'y_snap_steps', \\\n",
    "                 'y_snap_step_time', \\\n",
    "                 'y_snap_rms', \\\n",
    "                 'z_mean', \\\n",
    "                 'z_std', \\\n",
    "                 'z_var', \\\n",
    "                 'z_median', \\\n",
    "                 'z_max_raw', \\\n",
    "                 'z_min_raw', \\\n",
    "                 'z_max_abs', \\\n",
    "                 'z_min_abs', \\\n",
    "                 'z_skew', \\\n",
    "                 'z_kurtosis', \\\n",
    "                 'z_zcr', \\\n",
    "                 'z_gait_stretch', \\\n",
    "                 'z_steps', \\\n",
    "                 'z_step_time', \\\n",
    "                 'z_rms', \\\n",
    "                 'z_jerk_mean', \\\n",
    "                 'z_jerk_std', \\\n",
    "                 'z_jerk_var', \\\n",
    "                 'z_jerk_median', \\\n",
    "                 'z_jerk_max_raw', \\\n",
    "                 'z_jerk_min_raw', \\\n",
    "                 'z_jerk_max_abs', \\\n",
    "                 'z_jerk_min_abs', \\\n",
    "                 'z_jerk_skew', \\\n",
    "                 'z_jerk_kurtosis', \\\n",
    "                 'z_jerk_zcr', \\\n",
    "                 'z_jerk_gait_stretch', \\\n",
    "                 'z_jerk_steps', \\\n",
    "                 'z_jerk_step_time', \\\n",
    "                 'z_jerk_rms', \\\n",
    "                 'z_snap_mean', \\\n",
    "                 'z_snap_std', \\\n",
    "                 'z_snap_var', \\\n",
    "                 'z_snap_median', \\\n",
    "                 'z_snap_max_raw', \\\n",
    "                 'z_snap_min_raw', \\\n",
    "                 'z_snap_max_abs', \\\n",
    "                 'z_snap_min_abs', \\\n",
    "                 'z_snap_skew', \\\n",
    "                 'z_snap_kurtosis', \\\n",
    "                 'z_snap_zcr', \\\n",
    "                 'z_snap_gait_stretch', \\\n",
    "                 'z_snap_steps', \\\n",
    "                 'z_snap_step_time', \\\n",
    "                 'z_snap_rms', \\\n",
    "                 'xyz_ara', \\\n",
    "                 'xyz_jerk_ara', \\\n",
    "                 'xyz_snap_ara', \\\n",
    "                 'dx_dy', \\\n",
    "                 'dx_dz', \\\n",
    "                 'dy_dx', \\\n",
    "                 'dy_dz', \\\n",
    "                 'dz_dx', \\\n",
    "                 'dz_dy', \\\n",
    "                 'ddx_ddy', \\\n",
    "                 'ddx_ddz', \\\n",
    "                 'ddy_ddx', \\\n",
    "                 'ddy_ddz', \\\n",
    "                 'ddz_ddx', \\\n",
    "                 'ddz_ddy']\n",
    "    \n",
    "    for col in col_list:\n",
    "        df[col+'_std'] = df[col].rolling('10s').std()\n",
    "\n",
    "    df = df.iloc[::100, :]\n",
    "    df.to_csv(df_name[:-4]+'_std.csv') #removes the last 4 characters '.csv' and appends '_std'\n",
    "    print(df_name, 'Time:', time.time() - start)"
   ]
  },
  {
   "cell_type": "code",
   "execution_count": 7,
   "metadata": {},
   "outputs": [
    {
     "name": "stdout",
     "output_type": "stream",
     "text": [
      "Total Time: 1142.0639271736145\n"
     ]
    }
   ],
   "source": [
    "start_time = time.time()\n",
    "\n",
    "if __name__ ==  '__main__': \n",
    "    num_processors = 9 #Note, we can do up to 10\n",
    "    p=Pool(processes = num_processors)\n",
    "    output = p.map(defs.featurize_std_df,[i for i in df_names_list])\n",
    "\n",
    "print('Total Time:', time.time() - start_time)"
   ]
  },
  {
   "cell_type": "markdown",
   "metadata": {},
   "source": [
    "Our 26 dataframes were successfully resampled to keep only every 100 rows, and exported as csv files. Our total file size is now only 1.14 GB instead of 53 GB, a big improvement in terms of ease-of-use."
   ]
  },
  {
   "cell_type": "markdown",
   "metadata": {},
   "source": [
    "## 4.5 Train/Test Split<a id='4.5_Train_Test_Split'></a>"
   ]
  },
  {
   "cell_type": "markdown",
   "metadata": {},
   "source": [
    "Prior to our train/test split, we need to load our resampled df's, and make sure our data is balanced. We know from our Data Wrangling notebook that there are far more instances of TAC >= 0.08 than there are of TAC < 0.08. We also know that certain participants have far more rows than others (e.g. pid3 has around 6 times more rows than pid8). \n",
    "\n",
    "One approach we can use to balance our data is to find the total number of drunk/sober instances for each participant. Using the smallest set (for example, the number of pid8 drunk rows), we randomly sample from all other sets so that every participant is equally represented in the final dataset, and there is a 50/50 split of intoxicated/non-intoxicated rows in our dataset.\n",
    "\n",
    "After we balance our data, for both our raw/interpolated data and our TMA-smoothed data, we will conduct a 70/30 train/test split."
   ]
  },
  {
   "cell_type": "code",
   "execution_count": 8,
   "metadata": {},
   "outputs": [
    {
     "data": {
      "text/plain": [
       "['pid1_featurized_std.csv',\n",
       " 'pid2_featurized_std.csv',\n",
       " 'pid3_featurized_std.csv',\n",
       " 'pid4_featurized_std.csv',\n",
       " 'pid5_featurized_std.csv',\n",
       " 'pid6_featurized_std.csv',\n",
       " 'pid7_featurized_std.csv',\n",
       " 'pid8_featurized_std.csv',\n",
       " 'pid9_featurized_std.csv',\n",
       " 'pid10_featurized_std.csv',\n",
       " 'pid11_featurized_std.csv',\n",
       " 'pid12_featurized_std.csv',\n",
       " 'pid13_featurized_std.csv',\n",
       " 'pid1_tma_featurized_std.csv',\n",
       " 'pid2_tma_featurized_std.csv',\n",
       " 'pid3_tma_featurized_std.csv',\n",
       " 'pid4_tma_featurized_std.csv',\n",
       " 'pid5_tma_featurized_std.csv',\n",
       " 'pid6_tma_featurized_std.csv',\n",
       " 'pid7_tma_featurized_std.csv',\n",
       " 'pid8_tma_featurized_std.csv',\n",
       " 'pid9_tma_featurized_std.csv',\n",
       " 'pid10_tma_featurized_std.csv',\n",
       " 'pid11_tma_featurized_std.csv',\n",
       " 'pid12_tma_featurized_std.csv',\n",
       " 'pid13_tma_featurized_std.csv']"
      ]
     },
     "execution_count": 8,
     "metadata": {},
     "output_type": "execute_result"
    }
   ],
   "source": [
    "# let's build a new list of df names, using our new df's (with '_std' added in each filename)\n",
    "\n",
    "df_std_list = [] #makes empty list\n",
    "for name in df_names_list:\n",
    "    df_std_list.append(name[:-4]+'_std.csv')\n",
    "    \n",
    "df_std_list"
   ]
  },
  {
   "cell_type": "code",
   "execution_count": 9,
   "metadata": {},
   "outputs": [],
   "source": [
    "#Load all the df's\n",
    "def load_and_set_datetime_index(df_name):\n",
    "    df = pd.read_csv(df_name)\n",
    "    df.time = pd.to_datetime(df.time)\n",
    "    df = df.set_index('time')\n",
    "    return df\n",
    "\n",
    "pid1 = load_and_set_datetime_index(df_std_list[0])\n",
    "pid2 = load_and_set_datetime_index(df_std_list[1])\n",
    "pid3 = load_and_set_datetime_index(df_std_list[2])\n",
    "pid4 = load_and_set_datetime_index(df_std_list[3])\n",
    "pid5 = load_and_set_datetime_index(df_std_list[4])\n",
    "pid6 = load_and_set_datetime_index(df_std_list[5])\n",
    "pid7 = load_and_set_datetime_index(df_std_list[6])\n",
    "pid8 = load_and_set_datetime_index(df_std_list[7])\n",
    "pid9 = load_and_set_datetime_index(df_std_list[8])\n",
    "pid10 = load_and_set_datetime_index(df_std_list[9])\n",
    "pid11 = load_and_set_datetime_index(df_std_list[10])\n",
    "pid12 = load_and_set_datetime_index(df_std_list[11])\n",
    "pid13 = load_and_set_datetime_index(df_std_list[12])\n",
    "pid1_tma = load_and_set_datetime_index(df_std_list[13])\n",
    "pid2_tma = load_and_set_datetime_index(df_std_list[14])\n",
    "pid3_tma = load_and_set_datetime_index(df_std_list[15])\n",
    "pid4_tma = load_and_set_datetime_index(df_std_list[16])\n",
    "pid5_tma = load_and_set_datetime_index(df_std_list[17])\n",
    "pid6_tma = load_and_set_datetime_index(df_std_list[18])\n",
    "pid7_tma = load_and_set_datetime_index(df_std_list[19])\n",
    "pid8_tma = load_and_set_datetime_index(df_std_list[20])\n",
    "pid9_tma = load_and_set_datetime_index(df_std_list[21])\n",
    "pid10_tma = load_and_set_datetime_index(df_std_list[22])\n",
    "pid11_tma = load_and_set_datetime_index(df_std_list[23])\n",
    "pid12_tma = load_and_set_datetime_index(df_std_list[24])\n",
    "pid13_tma = load_and_set_datetime_index(df_std_list[25])\n"
   ]
  },
  {
   "cell_type": "code",
   "execution_count": 10,
   "metadata": {},
   "outputs": [],
   "source": [
    "pid_raw_list = [pid1, pid2, pid3, pid4, pid5, pid6, pid7, pid8, pid9, pid10, pid11, pid12, pid13]\n",
    "pid_tma_list = [pid1_tma, pid2_tma, pid3_tma, pid4_tma, pid5_tma, pid6_tma, \\\n",
    "                pid7_tma, pid8_tma, pid9_tma, pid10_tma, pid11_tma, pid12_tma, pid13_tma]"
   ]
  },
  {
   "cell_type": "code",
   "execution_count": 11,
   "metadata": {},
   "outputs": [
    {
     "name": "stdout",
     "output_type": "stream",
     "text": [
      "Number of instances >= 8% TAC: 34337\n",
      "Number of instances < 8% TAC: 79454\n",
      "There are 45117 more sober rows than intoxicated rows.\n",
      "\n"
     ]
    },
    {
     "data": {
      "text/plain": [
       "{'pid1_featurized.csv': [7203, 5055, 12258],\n",
       " 'pid2_featurized.csv': [1291, 3184, 4475],\n",
       " 'pid3_featurized.csv': [4465, 12394, 16859],\n",
       " 'pid4_featurized.csv': [1403, 4511, 5914],\n",
       " 'pid5_featurized.csv': [809, 10309, 11118],\n",
       " 'pid6_featurized.csv': [1424, 9747, 11171],\n",
       " 'pid7_featurized.csv': [2945, 8833, 11778],\n",
       " 'pid8_featurized.csv': [2385, 691, 3076],\n",
       " 'pid9_featurized.csv': [2772, 414, 3186],\n",
       " 'pid10_featurized.csv': [2437, 3877, 6314],\n",
       " 'pid11_featurized.csv': [1468, 12983, 14451],\n",
       " 'pid12_featurized.csv': [1064, 5497, 6561],\n",
       " 'pid13_featurized.csv': [4671, 1959, 6630]}"
      ]
     },
     "execution_count": 11,
     "metadata": {},
     "output_type": "execute_result"
    }
   ],
   "source": [
    "# Check to see the number of instances above or below 8% TAC for each individual.\n",
    "TAC_instances = {}\n",
    "\n",
    "for i in range(13):\n",
    "    TAC_instances[df_names_list[i]] = [(pid_raw_list[i].order_3 >=0.08).sum(),\n",
    "                                      (pid_raw_list[i].order_3 <0.08).sum(),\n",
    "                                      (pid_raw_list[i].order_3.count())]\n",
    "\n",
    "above_8 = 0\n",
    "below_8 = 0\n",
    "\n",
    "for i in range(13):\n",
    "    key = df_names_list[i]\n",
    "    above_8 += TAC_instances[key][0]\n",
    "    below_8 += TAC_instances[key][1]\n",
    "\n",
    "print(\"Number of instances >= 8% TAC:\", above_8)\n",
    "print(\"Number of instances < 8% TAC:\", below_8)\n",
    "print('There are', str(below_8 - above_8), 'more sober rows than intoxicated rows.')\n",
    "print()\n",
    "\n",
    "TAC_instances"
   ]
  },
  {
   "cell_type": "code",
   "execution_count": 12,
   "metadata": {},
   "outputs": [
    {
     "data": {
      "image/png": "[encoded data removed]",
      "text/plain": [
       "<Figure size 1008x360 with 1 Axes>"
      ]
     },
     "metadata": {
      "needs_background": "light"
     },
     "output_type": "display_data"
    }
   ],
   "source": [
    "# Here we graph bar plots of the data.\n",
    "# Use as reference: \n",
    "# https://matplotlib.org/3.3.2/gallery/lines_bars_and_markers/barchart.html#sphx-glr-gallery-lines-bars-and-markers-barchart-py\n",
    "\n",
    "# make empty lists\n",
    "labels = df_names_list[0:13]\n",
    "above_8 = []\n",
    "below_8 = []\n",
    "total =[]\n",
    "\n",
    "# populate those lists from pid_TAC_instances dictionary\n",
    "for i in range(13):\n",
    "    key = df_names_list[i]\n",
    "    above_8.append(TAC_instances[key][0])\n",
    "    below_8.append(TAC_instances[key][1])\n",
    "    total.append(TAC_instances[key][2])\n",
    "\n",
    "x = np.arange(len(labels))  # the label locations\n",
    "width = 0.3  # the width of the bars\n",
    "\n",
    "fig, ax = plt.subplots(figsize=(14,5))\n",
    "rects1 = ax.bar(x - width/2, above_8, width, label='TAC >= 8%')\n",
    "rects2 = ax.bar(x + width/2, below_8, width, label='TAC < 8%')\n",
    "rects3 = ax.bar(x + 1.5*width, total, width, label='Total TAC instances')\n",
    "\n",
    "# Add some text for labels, title and custom x-axis tick labels, etc.\n",
    "ax.set_ylabel('Number of Events')\n",
    "ax.set_title('Number of TAC events per Participant (raw/interpolate data)')\n",
    "ax.set_xticks(x)\n",
    "ax.set_xticklabels(labels)\n",
    "ax.legend(bbox_to_anchor=(1.0, 1.0), loc='upper left')\n",
    "plt.xticks(rotation=70)\n",
    "\n",
    "def autolabel(rects):\n",
    "    \"\"\"Attach a text label above each bar in *rects*, displaying its height.\"\"\"\n",
    "    for rect in rects:\n",
    "        height = rect.get_height()\n",
    "        ax.annotate('{}'.format(height),\n",
    "                    xy=(rect.get_x() + rect.get_width() / 2, height),\n",
    "                    xytext=(0, 3),  # 3 points vertical offset\n",
    "                    textcoords=\"offset points\",\n",
    "                    ha='center', va='bottom')\n",
    "autolabel(rects1)\n",
    "autolabel(rects2)\n",
    "autolabel(rects3)\n",
    "\n",
    "fig.tight_layout()\n",
    "\n",
    "plt.show()"
   ]
  },
  {
   "cell_type": "code",
   "execution_count": 13,
   "metadata": {},
   "outputs": [
    {
     "name": "stdout",
     "output_type": "stream",
     "text": [
      "Number of instances >= 8% TAC: 34184\n",
      "Number of instances < 8% TAC: 79607\n",
      "There are 45423 more sober rows than intoxicated rows.\n",
      "\n"
     ]
    },
    {
     "data": {
      "image/png": "[encoded data removed]",
      "text/plain": [
       "<Figure size 1008x360 with 1 Axes>"
      ]
     },
     "metadata": {
      "needs_background": "light"
     },
     "output_type": "display_data"
    }
   ],
   "source": [
    "#Now we do the same for the tma-smoothed data\n",
    "\n",
    "TAC_instances = {}\n",
    "\n",
    "for i in range(13):\n",
    "    TAC_instances[df_names_list[i+13]] = [(pid_tma_list[i].tma >=0.08).sum(),\n",
    "                                      (pid_tma_list[i].tma <0.08).sum(),\n",
    "                                      (pid_tma_list[i].tma.count())]\n",
    "\n",
    "above_8 = 0\n",
    "below_8 = 0\n",
    "\n",
    "for i in range(13):\n",
    "    key = df_names_list[i+13]\n",
    "    above_8 += TAC_instances[key][0]\n",
    "    below_8 += TAC_instances[key][1]\n",
    "\n",
    "print(\"Number of instances >= 8% TAC:\", above_8)\n",
    "print(\"Number of instances < 8% TAC:\", below_8)\n",
    "print('There are', str(below_8 - above_8), 'more sober rows than intoxicated rows.')\n",
    "print()\n",
    "\n",
    "TAC_instances\n",
    "\n",
    "#make a bar graph\n",
    "\n",
    "labels = df_names_list[13:26]\n",
    "above_8 = []\n",
    "below_8 = []\n",
    "total =[]\n",
    "\n",
    "for i in range(13):\n",
    "    key = df_names_list[i+13]\n",
    "    above_8.append(TAC_instances[key][0])\n",
    "    below_8.append(TAC_instances[key][1])\n",
    "    total.append(TAC_instances[key][2])\n",
    "\n",
    "x = np.arange(len(labels))  # the label locations\n",
    "width = 0.3  # the width of the bars\n",
    "\n",
    "fig, ax = plt.subplots(figsize=(14,5))\n",
    "rects1 = ax.bar(x - width/2, above_8, width, label='TAC >= 8%')\n",
    "rects2 = ax.bar(x + width/2, below_8, width, label='TAC < 8%')\n",
    "rects3 = ax.bar(x + 1.5*width, total, width, label='Total TAC instances')\n",
    "\n",
    "# Add some text for labels, title and custom x-axis tick labels, etc.\n",
    "ax.set_ylabel('Number of Events')\n",
    "ax.set_title('Number of TAC events per Participant (tma-smoothed data)')\n",
    "ax.set_xticks(x)\n",
    "ax.set_xticklabels(labels)\n",
    "ax.legend(bbox_to_anchor=(1.0, 1.0), loc='upper left')\n",
    "plt.xticks(rotation=70)\n",
    "\n",
    "def autolabel(rects):\n",
    "    \"\"\"Attach a text label above each bar in *rects*, displaying its height.\"\"\"\n",
    "    for rect in rects:\n",
    "        height = rect.get_height()\n",
    "        ax.annotate('{}'.format(height),\n",
    "                    xy=(rect.get_x() + rect.get_width() / 2, height),\n",
    "                    xytext=(0, 3),  # 3 points vertical offset\n",
    "                    textcoords=\"offset points\",\n",
    "                    ha='center', va='bottom')\n",
    "autolabel(rects1)\n",
    "autolabel(rects2)\n",
    "autolabel(rects3)\n",
    "\n",
    "fig.tight_layout()\n",
    "\n",
    "plt.show()"
   ]
  },
  {
   "cell_type": "markdown",
   "metadata": {},
   "source": [
    "Here we can see that some participant had more sober instances than drunk instances, as previously stated, while others have the opposite. The smallest number we see is 414 rows of TAC < 8% for pid9 (raw/interpolated data) and 418 rows of TAC < 8% for pid9 (tma-smoothed). We can use n=400 number as the number of rows we randomly select from each participant/class combination.\n",
    "\n",
    "The final result would be a dataset that has equal representation of each participant and a 50/50 split of each binary class."
   ]
  },
  {
   "cell_type": "code",
   "execution_count": 14,
   "metadata": {},
   "outputs": [],
   "source": [
    "#Use the pandas df.sample() function to sample 400 rows from each df\n",
    "\n",
    "n = 400\n",
    "\n",
    "df_raw_above_8 = pid1[(pid1.order_3 > 0.08) & (pid1.order_5 > 0.08) & (pid1.order_7 > 0.08) & \\\n",
    "                      (pid1.order_9 > 0.08)].sample(n, random_state=1)\n",
    "df_raw_below_8 = pid1[(pid1.order_3 < 0.08) & (pid1.order_5 < 0.08) & (pid1.order_7 < 0.08) & \\\n",
    "                      (pid1.order_9 < 0.08)].sample(n, random_state=1)\n",
    "\n",
    "for i in range(12):    #use only 12 instead 13 because we already did the 1st one\n",
    "    df = pid_raw_list[i+1]\n",
    "    df_raw_above_8 = df_raw_above_8.append(df[(df.order_3 > 0.08) & (df.order_5 > 0.08) & \\\n",
    "                                              (df.order_7 > 0.08) & (df.order_9 > 0.08)].sample(n, random_state=1))\n",
    "    df_raw_below_8 = df_raw_below_8.append(df[(df.order_3 < 0.08) & (df.order_5 < 0.08) & \\\n",
    "                                              (df.order_7 < 0.08) & (df.order_9 < 0.08)].sample(n, random_state=1))"
   ]
  },
  {
   "cell_type": "code",
   "execution_count": 15,
   "metadata": {},
   "outputs": [
    {
     "name": "stdout",
     "output_type": "stream",
     "text": [
      "(5200, 313)\n",
      "(5200, 313)\n"
     ]
    }
   ],
   "source": [
    "#Since we selected 400 rows for each class from all 13 participants, we expect 5200 rows total.\n",
    "print(df_raw_above_8.shape)\n",
    "print(df_raw_below_8.shape)\n",
    "\n",
    "#as expected, we have 5200 rows for each class."
   ]
  },
  {
   "cell_type": "code",
   "execution_count": 16,
   "metadata": {},
   "outputs": [
    {
     "name": "stdout",
     "output_type": "stream",
     "text": [
      "(5200, 310)\n",
      "(5200, 310)\n"
     ]
    }
   ],
   "source": [
    "#We repeat the earlier steps but for the tma-smoothed dataset\n",
    "\n",
    "n = 400\n",
    "\n",
    "df_tma_above_8 = pid1_tma[(pid1_tma.tma > 0.08)].sample(n, random_state=1)\n",
    "df_tma_below_8 = pid1_tma[(pid1_tma.tma < 0.08)].sample(n, random_state=1)\n",
    "\n",
    "for i in range(12):    #use only 12 instead 13 because we already did the 1st one\n",
    "    df = pid_tma_list[i+1]\n",
    "    df_tma_above_8 = df_tma_above_8.append(df[(df.tma > 0.08)].sample(n, random_state=1))\n",
    "    df_tma_below_8 = df_tma_below_8.append(df[(df.tma < 0.08)].sample(n, random_state=1))\n",
    "\n",
    "#Check for 5200 rows\n",
    "print(df_tma_above_8.shape)\n",
    "print(df_tma_below_8.shape)"
   ]
  },
  {
   "cell_type": "code",
   "execution_count": 17,
   "metadata": {},
   "outputs": [
    {
     "name": "stdout",
     "output_type": "stream",
     "text": [
      "10400\n",
      "10400\n"
     ]
    }
   ],
   "source": [
    "#Now let's append df_raw_above_8 & df_raw_below_8 together\n",
    "\n",
    "df_raw = df_raw_above_8.append(df_raw_below_8)\n",
    "print(len(df_raw))\n",
    "\n",
    "#simiarly append df_tma_above_8 & df_tma_below_8 together\n",
    "\n",
    "df_tma = df_tma_above_8.append(df_tma_below_8)\n",
    "print(len(df_tma))\n"
   ]
  },
  {
   "cell_type": "markdown",
   "metadata": {},
   "source": [
    "We are almost ready for the train/test split. But before we do, let's make sure our data is clean and remove any columns full of NaNs, which may have cropped up while we featurized our df's earlier in this notebook."
   ]
  },
  {
   "cell_type": "code",
   "execution_count": 18,
   "metadata": {},
   "outputs": [
    {
     "data": {
      "text/plain": [
       "x                0\n",
       "y                0\n",
       "z                0\n",
       "order_3          0\n",
       "order_5          0\n",
       "              ... \n",
       "ddx_ddz_std     87\n",
       "ddy_ddx_std      2\n",
       "ddy_ddz_std     87\n",
       "ddz_ddx_std      2\n",
       "ddz_ddy_std    229\n",
       "Length: 313, dtype: int64"
      ]
     },
     "execution_count": 18,
     "metadata": {},
     "output_type": "execute_result"
    }
   ],
   "source": [
    "#let's convert any infinite values to NaN values\n",
    "df_raw = df_raw.replace([np.inf, -np.inf], np.nan)\n",
    "df_raw.isna().sum()\n",
    "#looking at the output, there is clearly some NaN values in the ddz_ddy_std section."
   ]
  },
  {
   "cell_type": "code",
   "execution_count": 19,
   "metadata": {},
   "outputs": [
    {
     "data": {
      "text/plain": [
       "x_step_time             131\n",
       "y_skew                  662\n",
       "y_step_time             397\n",
       "y_jerk_step_time        304\n",
       "y_snap_step_time        277\n",
       "z_step_time             320\n",
       "z_jerk_skew             171\n",
       "z_jerk_step_time        258\n",
       "z_snap_skew             159\n",
       "z_snap_step_time        216\n",
       "dx_dy                   478\n",
       "dx_dz                   435\n",
       "dy_dx                   118\n",
       "dy_dz                   435\n",
       "dz_dx                   118\n",
       "dz_dy                   478\n",
       "ddx_ddy                 359\n",
       "ddx_ddz                 321\n",
       "ddy_ddz                 321\n",
       "ddz_ddy                 359\n",
       "y_skew_std              658\n",
       "y_step_time_std         265\n",
       "y_jerk_step_time_std    219\n",
       "y_snap_step_time_std    207\n",
       "z_step_time_std         219\n",
       "z_jerk_skew_std         121\n",
       "z_jerk_step_time_std    186\n",
       "z_snap_skew_std         111\n",
       "z_snap_step_time_std    148\n",
       "dx_dy_std               229\n",
       "dz_dy_std               229\n",
       "ddx_ddy_std             229\n",
       "ddz_ddy_std             229\n",
       "dtype: int64"
      ]
     },
     "execution_count": 19,
     "metadata": {},
     "output_type": "execute_result"
    }
   ],
   "source": [
    "df_raw.isna().sum()[df_raw.isna().sum()>100]\n",
    "\n",
    "#Here we can see the columns with at least 100 NaNs"
   ]
  },
  {
   "cell_type": "code",
   "execution_count": 20,
   "metadata": {},
   "outputs": [
    {
     "name": "stdout",
     "output_type": "stream",
     "text": [
      "There are 33 columns with >100 NaN values\n",
      "\n",
      "Index(['x_step_time', 'y_skew', 'y_step_time', 'y_jerk_step_time',\n",
      "       'y_snap_step_time', 'z_step_time', 'z_jerk_skew', 'z_jerk_step_time',\n",
      "       'z_snap_skew', 'z_snap_step_time', 'dx_dy', 'dx_dz', 'dy_dx', 'dy_dz',\n",
      "       'dz_dx', 'dz_dy', 'ddx_ddy', 'ddx_ddz', 'ddy_ddz', 'ddz_ddy',\n",
      "       'y_skew_std', 'y_step_time_std', 'y_jerk_step_time_std',\n",
      "       'y_snap_step_time_std', 'z_step_time_std', 'z_jerk_skew_std',\n",
      "       'z_jerk_step_time_std', 'z_snap_skew_std', 'z_snap_step_time_std',\n",
      "       'dx_dy_std', 'dz_dy_std', 'ddx_ddy_std', 'ddz_ddy_std'],\n",
      "      dtype='object')\n"
     ]
    }
   ],
   "source": [
    "#find all the columns that have >100 NaN values. \n",
    "columns_to_drop = df_raw.isna().sum()[df_raw.isna().sum()>100].keys()\n",
    "print('There are', len(columns_to_drop),'columns with >100 NaN values')\n",
    "print()\n",
    "print(columns_to_drop)"
   ]
  },
  {
   "cell_type": "code",
   "execution_count": 21,
   "metadata": {},
   "outputs": [
    {
     "data": {
      "text/plain": [
       "(10400, 293)"
      ]
     },
     "execution_count": 21,
     "metadata": {},
     "output_type": "execute_result"
    }
   ],
   "source": [
    "#using our list, we remove those columns from our df.\n",
    "\n",
    "df_raw = df_raw.drop(columns=['y_skew', 'z_jerk_skew', 'z_snap_skew', 'dy_dz', 'dz_dy', 'ddy_ddz',\n",
    "       'ddz_ddy', 'y_skew_std', 'y_step_time_std', 'y_jerk_step_time_std',\n",
    "       'y_snap_step_time_std', 'z_step_time_std', 'z_jerk_skew_std',\n",
    "       'z_jerk_step_time_std', 'z_snap_skew_std', 'z_snap_step_time_std',\n",
    "       'dx_dy_std', 'dz_dy_std', 'ddx_ddy_std', 'ddz_ddy_std'])\n",
    "\n",
    "df_raw.shape\n",
    "\n",
    "#we should expect to see 293 columns (20 less than our original 313)"
   ]
  },
  {
   "cell_type": "code",
   "execution_count": 22,
   "metadata": {},
   "outputs": [
    {
     "data": {
      "text/plain": [
       "(9107, 293)"
      ]
     },
     "execution_count": 22,
     "metadata": {},
     "output_type": "execute_result"
    }
   ],
   "source": [
    "#Now that we've dropped the columns with the most NaNs, it may be safe to assume that dropping all rows with NaN\n",
    "# would not significantly decrease the number of rows in our df. Let's try this.\n",
    "\n",
    "df_raw = df_raw.dropna()\n",
    "df_raw.shape\n",
    "\n",
    "#We still have 10193 rows, pretty good!"
   ]
  },
  {
   "cell_type": "code",
   "execution_count": 23,
   "metadata": {},
   "outputs": [
    {
     "name": "stdout",
     "output_type": "stream",
     "text": [
      "We still have 4773 rows where TAC > 0.08\n",
      "We still have 4334 rows where TAC < 0.08\n"
     ]
    }
   ],
   "source": [
    "a = df_raw[df_raw.order_3>0.08].shape[0]\n",
    "b = df_raw[df_raw.order_3<0.08].shape[0]\n",
    "print('We still have',a,'rows where TAC > 0.08')\n",
    "print('We still have',b,'rows where TAC < 0.08')\n",
    "\n",
    "# Our data still looks like it's been split fairly evenly 50/50 across each class; about 5000 rows each."
   ]
  },
  {
   "cell_type": "code",
   "execution_count": 24,
   "metadata": {},
   "outputs": [
    {
     "name": "stdout",
     "output_type": "stream",
     "text": [
      "There are 33 columns with >100 NaN values\n",
      "\n",
      "Index(['y_skew', 'y_step_time', 'y_jerk_skew', 'y_jerk_step_time',\n",
      "       'y_snap_skew', 'y_snap_step_time', 'z_skew', 'z_step_time',\n",
      "       'z_jerk_step_time', 'z_snap_skew', 'z_snap_step_time', 'dx_dy', 'dx_dz',\n",
      "       'dy_dz', 'dz_dy', 'ddx_ddy', 'ddx_ddz', 'ddy_ddz', 'ddz_ddy',\n",
      "       'y_skew_std', 'y_step_time_std', 'y_jerk_skew_std',\n",
      "       'y_jerk_step_time_std', 'y_snap_step_time_std', 'z_skew_std',\n",
      "       'z_step_time_std', 'z_jerk_step_time_std', 'z_snap_skew_std',\n",
      "       'z_snap_step_time_std', 'dx_dy_std', 'dz_dy_std', 'ddx_ddy_std',\n",
      "       'ddz_ddy_std'],\n",
      "      dtype='object')\n"
     ]
    }
   ],
   "source": [
    "#let's repeat the above cleaning process, but for the tma_smoothed data.\n",
    "\n",
    "df_tma = df_tma.replace([np.inf, -np.inf], np.nan)\n",
    "\n",
    "columns_to_drop = df_tma.isna().sum()[df_tma.isna().sum()>100].keys()\n",
    "print('There are', len(columns_to_drop),'columns with >100 NaN values')\n",
    "print()\n",
    "print(columns_to_drop)"
   ]
  },
  {
   "cell_type": "code",
   "execution_count": 25,
   "metadata": {},
   "outputs": [
    {
     "data": {
      "text/plain": [
       "(10400, 287)"
      ]
     },
     "execution_count": 25,
     "metadata": {},
     "output_type": "execute_result"
    }
   ],
   "source": [
    "df_tma = df_tma.drop(columns=['y_skew', 'y_jerk_skew', 'y_snap_skew', 'z_skew', 'z_snap_skew',\n",
    "       'dy_dz', 'dz_dy', 'ddy_ddz', 'ddz_ddy', 'y_skew_std', 'y_step_time_std',\n",
    "       'y_jerk_skew_std', 'y_jerk_step_time_std', 'y_snap_step_time_std',\n",
    "       'z_skew_std', 'z_step_time_std', 'z_jerk_step_time_std',\n",
    "       'z_snap_skew_std', 'z_snap_step_time_std', 'dx_dy_std', 'dz_dy_std',\n",
    "       'ddx_ddy_std', 'ddz_ddy_std'])\n",
    "\n",
    "df_tma.shape\n",
    "#we should expect to see 287 columns (23 less than our original 310)"
   ]
  },
  {
   "cell_type": "code",
   "execution_count": 26,
   "metadata": {},
   "outputs": [
    {
     "name": "stdout",
     "output_type": "stream",
     "text": [
      "(9486, 287)\n",
      "\n",
      "We still have 4768 rows where TAC > 0.08\n",
      "We still have 4718 rows where TAC < 0.08\n"
     ]
    }
   ],
   "source": [
    "df_tma = df_tma.dropna()\n",
    "print(df_tma.shape)\n",
    "print()\n",
    "\n",
    "a = df_tma[df_tma.tma>0.08].shape[0]\n",
    "b = df_tma[df_tma.tma<0.08].shape[0]\n",
    "print('We still have',a,'rows where TAC > 0.08')\n",
    "print('We still have',b,'rows where TAC < 0.08')\n",
    "\n",
    "# Just like for df_raw, our df_tma data still looks like it's been \n",
    "# split fairly evenly 50/50 across each class; about 5000 rows each."
   ]
  },
  {
   "cell_type": "code",
   "execution_count": 27,
   "metadata": {},
   "outputs": [],
   "source": [
    "#One more step: let us reset the index since the datetime index is no longer relevant for our predictions,\n",
    "#especially since we have combined together all the participants' data.\n",
    "\n",
    "df_raw = df_raw.reset_index(drop=True)\n",
    "df_tma = df_tma.reset_index(drop=True)"
   ]
  },
  {
   "cell_type": "markdown",
   "metadata": {},
   "source": [
    "Our bifurcated datasets (df_raw and df_tma) have relatively equal representation from each participant, have roughly an equal 50/50 class split, and are free of NaN values. They are now ready for a train/test split."
   ]
  },
  {
   "cell_type": "code",
   "execution_count": 28,
   "metadata": {},
   "outputs": [],
   "source": [
    "# Run a 70/30 train/test split for df_raw\n",
    "\n",
    "#drop the raw data (x,y,z) and the TAC columns\n",
    "drop_columns = ['x','y','z','order_3', 'order_5', 'order_7', 'order_9']\n",
    "\n",
    "#since we can only have 1 column as our predicted variable, we choose order_3.\n",
    "\n",
    "X_train, X_test, y_train, y_test = train_test_split(df_raw.drop(columns=drop_columns), \n",
    "                                                    df_raw.order_3, test_size=0.3, \n",
    "                                                    random_state=1)"
   ]
  },
  {
   "cell_type": "code",
   "execution_count": 29,
   "metadata": {},
   "outputs": [
    {
     "data": {
      "text/plain": [
       "((6374, 286), (2733, 286))"
      ]
     },
     "execution_count": 29,
     "metadata": {},
     "output_type": "execute_result"
    }
   ],
   "source": [
    "X_train.shape, X_test.shape"
   ]
  },
  {
   "cell_type": "code",
   "execution_count": 30,
   "metadata": {},
   "outputs": [
    {
     "data": {
      "text/plain": [
       "((6374,), (2733,))"
      ]
     },
     "execution_count": 30,
     "metadata": {},
     "output_type": "execute_result"
    }
   ],
   "source": [
    "y_train.shape, y_test.shape"
   ]
  },
  {
   "cell_type": "code",
   "execution_count": 31,
   "metadata": {},
   "outputs": [],
   "source": [
    "# Run a 70/30 train/test split for df_tma\n",
    "\n",
    "#drop the raw data (x,y,z) and the TAC columns\n",
    "drop_columns = ['x','y','z','tma']\n",
    "\n",
    "X_train_t, X_test_t, y_train_t, y_test_t = train_test_split(df_tma.drop(columns=drop_columns), \n",
    "                                                    df_tma.tma, test_size=0.3, \n",
    "                                                    random_state=1)"
   ]
  },
  {
   "cell_type": "code",
   "execution_count": 32,
   "metadata": {},
   "outputs": [
    {
     "data": {
      "text/plain": [
       "((6640, 283), (2846, 283))"
      ]
     },
     "execution_count": 32,
     "metadata": {},
     "output_type": "execute_result"
    }
   ],
   "source": [
    "X_train_t.shape, X_test_t.shape"
   ]
  },
  {
   "cell_type": "code",
   "execution_count": 33,
   "metadata": {},
   "outputs": [
    {
     "data": {
      "text/plain": [
       "((6640,), (2846,))"
      ]
     },
     "execution_count": 33,
     "metadata": {},
     "output_type": "execute_result"
    }
   ],
   "source": [
    "y_train_t.shape, y_test_t.shape"
   ]
  },
  {
   "cell_type": "markdown",
   "metadata": {},
   "source": [
    "## 4.6 Scaling the Data<a id='4.6_Scaling_the_Data'></a>"
   ]
  },
  {
   "cell_type": "markdown",
   "metadata": {},
   "source": [
    "Since our features are measured in different units and are all on different scales of varying orders of magnitude, we will scale our training data to place them on a consistent scale. Then, using our scaler that was trained on the training data, we will use that scaler to transform the test data. It is imperative that we do not fit our scaler to the test data, as the test data should not be touched at all in proper ML modeling.\n",
    "\n",
    "Here, we use StandardScaler from sklearn.preprocessing, which will scale each feature to zero mean and unit variance. We should keep in mind though that StandardScaler is sensitive to outliers (since they influence the mean), though at the moment we do not have time to affirm whether each of our ~300 features are evenly distributed or skewed."
   ]
  },
  {
   "cell_type": "code",
   "execution_count": 34,
   "metadata": {},
   "outputs": [],
   "source": [
    "scaler = StandardScaler()\n",
    "scaler.fit(X_train)\n",
    "X_tr_scaled = scaler.transform(X_train)\n",
    "X_te_scaled = scaler.transform(X_test)"
   ]
  },
  {
   "cell_type": "code",
   "execution_count": 38,
   "metadata": {},
   "outputs": [],
   "source": [
    "scaler_t = StandardScaler()\n",
    "scaler_t.fit(X_train_t)\n",
    "X_tr_scaled_t = scaler_t.transform(X_train_t)\n",
    "X_te_scaled_t = scaler_t.transform(X_test_t)"
   ]
  },
  {
   "cell_type": "markdown",
   "metadata": {},
   "source": [
    "### 4.7 Exporting the Data<a id='4.7_Exporting_the_Data'></a>"
   ]
  },
  {
   "cell_type": "markdown",
   "metadata": {},
   "source": [
    "Our data is ready for modeling. Our final step is to export it as a CSV file, so that it would be ready to load in our next and final notebook, Modeling."
   ]
  },
  {
   "cell_type": "code",
   "execution_count": 41,
   "metadata": {},
   "outputs": [],
   "source": [
    "X_train.to_csv('X_train.csv')\n",
    "X_test.to_csv('X_test.csv')\n",
    "y_train.to_csv('y_train.csv')\n",
    "y_test.to_csv('y_test.csv')\n",
    "pd.DataFrame(X_tr_scaled).to_csv('X_tr_scaled.csv')\n",
    "pd.DataFrame(X_te_scaled).to_csv('X_te_scaled.csv')\n",
    "\n",
    "X_train_t.to_csv('X_train_tma.csv')\n",
    "X_test_t.to_csv('X_test_tma.csv')\n",
    "y_train_t.to_csv('y_train_tma.csv')\n",
    "y_test_t.to_csv('y_test_tma.csv')\n",
    "pd.DataFrame(X_tr_scaled_t).to_csv('X_tr_scaled_tma.csv')\n",
    "pd.DataFrame(X_te_scaled_t).to_csv('X_te_scaled_tma.csv')"
   ]
  },
  {
   "cell_type": "markdown",
   "metadata": {},
   "source": [
    "### 4.8 Summary and Next Steps<a id='4.8_Summary_and_Next_Steps'></a>"
   ]
  },
  {
   "cell_type": "markdown",
   "metadata": {},
   "source": [
    "__Summary:__\n",
    "\n",
    "In this notebook, we featurized our raw/interpolated data and our TMA-smoothed data one last time by calculating the standard deviation of each feature, resulting in over 300 features for each dataset.\n",
    "\n",
    "After featurizing, we resampled our data, selecting 400 rows from each participant (pid 1 through 13) and from each binary class (TAC < 0.08 and TAC >= 0.08), resulting in datasets with 10,400 rows and which have equal representation from each participatn and a 50/50 split between classes.\n",
    "\n",
    "We cleaned our datasets by removing columns with excessive (>100) NaN values, then dropping rows containing NaNs. Our final datasets had over 10k rows and over 280 features.\n",
    "\n",
    "We conducted a 70/30 train/test split, and used sklearn's StandardScaler to scale our inputs.\n",
    "\n",
    "__Next Steps:__\n",
    "\n",
    "Our data is ready for modeling. We saw in the previous notebook (EDA) that there was no feature with a clear correlation with alcohol level. Rather than trying a method like linear regression, we should start with Random Forest Classifier (as a baseline, as this was found to be the best method by the authors of the paper), followed by XG Boost and any additional models of interest."
   ]
  },
  {
   "cell_type": "code",
   "execution_count": null,
   "metadata": {},
   "outputs": [],
   "source": []
  }
 ],
 "metadata": {
  "kernelspec": {
   "display_name": "Python 3",
   "language": "python",
   "name": "python3"
  },
  "language_info": {
   "codemirror_mode": {
    "name": "ipython",
    "version": 3
   },
   "file_extension": ".py",
   "mimetype": "text/x-python",
   "name": "python",
   "nbconvert_exporter": "python",
   "pygments_lexer": "ipython3",
   "version": "3.8.3"
  }
 },
 "nbformat": 4,
 "nbformat_minor": 4
}
